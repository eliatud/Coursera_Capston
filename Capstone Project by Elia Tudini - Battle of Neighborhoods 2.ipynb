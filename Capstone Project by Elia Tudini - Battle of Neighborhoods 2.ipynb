{
 "cells": [
  {
   "cell_type": "markdown",
   "metadata": {},
   "source": [
    "# CAPSTONE PROJECT BY ELIA TUDINI\n",
    "### Battle of Neghiborhoods\n",
    "\n",
    "\n",
    "##### ITALIAN RESTAURANTS IN VANCOUVER"
   ]
  },
  {
   "cell_type": "markdown",
   "metadata": {},
   "source": [
    "### 1 - Introduction & Business Problem"
   ]
  },
  {
   "cell_type": "markdown",
   "metadata": {},
   "source": [
    "##### With This final project explores I want to understand the best locations for Italian restaurants throughout the city of Vancouver. According to the Government of Canada, todya 1.8 millions canadians have italian orgining, due to a big wave of immigration from the county from the second world war until the 1970s This report explores which neighborhoods and boroughs of Vancouver have the most as well as the best Italian restaurants. Additionally, I will attempt to answer the questions “Where should I open an Italian Restaurant?” and “Where should I stay If I want great Italian food?”"
   ]
  },
  {
   "cell_type": "markdown",
   "metadata": {},
   "source": [
    "### 2 - Data"
   ]
  },
  {
   "cell_type": "markdown",
   "metadata": {},
   "source": [
    "Based on definition of our problem, factors that will influence our decission are:\n",
    "* finding the venues more requested for restaurants in Vancouver\n",
    "* finding the distribution of italian restaurants in the city of Vancouver\n",
    "* choosing the right neighbourhood within the borough\n",
    "\n",
    "We will be using the geographical coordinates of Vancouver to plot neighbourhoods in a borough based on the restaurants and venues, and finally cluster our neighborhoods and present our findings.\n",
    "\n",
    "Following data sources will be needed to extract/generate the required information:\n",
    "- 1: Gathering additional information of the list of officially categorized boroughs in Vancouver from Wikipedia. Borough information will be used to map the existing data where each neighbourhood can be assigned with the right borough\n",
    "- 2: Gather all the coordinates with Latitude and longitude through Geospacial library in Python\n",
    "- 3: All data related to locations and quality of Italian restaurants will be obtained via the FourSquare API utilized via the Request library in Python.\n"
   ]
  }
 ],
 "metadata": {
  "kernelspec": {
   "display_name": "Python 3",
   "language": "python",
   "name": "python3"
  },
  "language_info": {
   "codemirror_mode": {
    "name": "ipython",
    "version": 3
   },
   "file_extension": ".py",
   "mimetype": "text/x-python",
   "name": "python",
   "nbconvert_exporter": "python",
   "pygments_lexer": "ipython3",
   "version": "3.7.3"
  }
 },
 "nbformat": 4,
 "nbformat_minor": 2
}
